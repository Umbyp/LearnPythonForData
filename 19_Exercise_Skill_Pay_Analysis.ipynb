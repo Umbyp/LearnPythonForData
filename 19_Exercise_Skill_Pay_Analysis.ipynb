{
 "cells": [
  {
   "cell_type": "code",
   "execution_count": 5,
   "metadata": {},
   "outputs": [
    {
     "name": "stderr",
     "output_type": "stream",
     "text": [
      "Exception ignored in: <bound method IPythonKernel._clean_thread_parent_frames of <ipykernel.ipkernel.IPythonKernel object at 0x107554710>>\n",
      "Traceback (most recent call last):\n",
      "  File \"/opt/anaconda3/envs/python_course/lib/python3.12/site-packages/ipykernel/ipkernel.py\", line 790, in _clean_thread_parent_frames\n",
      "    active_threads = {thread.ident for thread in threading.enumerate()}\n",
      "                                                 ^^^^^^^^^^^^^^^^^^^^^\n",
      "  File \"/opt/anaconda3/envs/python_course/lib/python3.12/threading.py\", line 1543, in enumerate\n",
      "    with _active_limbo_lock:\n",
      "KeyboardInterrupt: \n"
     ]
    }
   ],
   "source": [
    "# Importing Libraries\n",
    "import ast\n",
    "import pandas as pd\n",
    "from datasets import load_dataset\n",
    "import matplotlib.pyplot as plt  \n",
    "\n",
    "# Loading Data\n",
    "dataset = load_dataset('lukebarousse/data_jobs')\n",
    "df = dataset['train'].to_pandas()\n",
    "\n",
    "# Data Cleanup\n",
    "df['job_posted_date'] = pd.to_datetime(df['job_posted_date'])\n",
    "df['job_skills'] = df['job_skills'].apply(lambda x: ast.literal_eval(x) if pd.notna(x) else x)"
   ]
  },
  {
   "cell_type": "code",
   "execution_count": 6,
   "metadata": {},
   "outputs": [],
   "source": [
    "# Only get data analyst jobs in the US\n",
    "df_DA_US = df[(df['job_title_short'] == 'Data Analyst') & (df['job_country'] == 'United States')].copy()\n",
    "\n",
    "# Drop NaN values from the 'salary_year_avg' column for accurate visualization\n",
    "df_DA_US = df_DA_US.dropna(subset=['salary_year_avg'])"
   ]
  },
  {
   "cell_type": "code",
   "execution_count": 8,
   "metadata": {},
   "outputs": [
    {
     "data": {
      "text/html": [
       "<div>\n",
       "<style scoped>\n",
       "    .dataframe tbody tr th:only-of-type {\n",
       "        vertical-align: middle;\n",
       "    }\n",
       "\n",
       "    .dataframe tbody tr th {\n",
       "        vertical-align: top;\n",
       "    }\n",
       "\n",
       "    .dataframe thead th {\n",
       "        text-align: right;\n",
       "    }\n",
       "</style>\n",
       "<table border=\"1\" class=\"dataframe\">\n",
       "  <thead>\n",
       "    <tr style=\"text-align: right;\">\n",
       "      <th></th>\n",
       "      <th>salary_year_avg</th>\n",
       "      <th>job_skills</th>\n",
       "    </tr>\n",
       "  </thead>\n",
       "  <tbody>\n",
       "    <tr>\n",
       "      <th>109</th>\n",
       "      <td>89000.0</td>\n",
       "      <td>python</td>\n",
       "    </tr>\n",
       "    <tr>\n",
       "      <th>109</th>\n",
       "      <td>89000.0</td>\n",
       "      <td>r</td>\n",
       "    </tr>\n",
       "    <tr>\n",
       "      <th>109</th>\n",
       "      <td>89000.0</td>\n",
       "      <td>alteryx</td>\n",
       "    </tr>\n",
       "    <tr>\n",
       "      <th>109</th>\n",
       "      <td>89000.0</td>\n",
       "      <td>tableau</td>\n",
       "    </tr>\n",
       "    <tr>\n",
       "      <th>180</th>\n",
       "      <td>90250.0</td>\n",
       "      <td>excel</td>\n",
       "    </tr>\n",
       "    <tr>\n",
       "      <th>...</th>\n",
       "      <td>...</td>\n",
       "      <td>...</td>\n",
       "    </tr>\n",
       "    <tr>\n",
       "      <th>784882</th>\n",
       "      <td>87500.0</td>\n",
       "      <td>sql</td>\n",
       "    </tr>\n",
       "    <tr>\n",
       "      <th>784882</th>\n",
       "      <td>87500.0</td>\n",
       "      <td>vba</td>\n",
       "    </tr>\n",
       "    <tr>\n",
       "      <th>784882</th>\n",
       "      <td>87500.0</td>\n",
       "      <td>tableau</td>\n",
       "    </tr>\n",
       "    <tr>\n",
       "      <th>784882</th>\n",
       "      <td>87500.0</td>\n",
       "      <td>excel</td>\n",
       "    </tr>\n",
       "    <tr>\n",
       "      <th>784882</th>\n",
       "      <td>87500.0</td>\n",
       "      <td>alteryx</td>\n",
       "    </tr>\n",
       "  </tbody>\n",
       "</table>\n",
       "<p>17440 rows × 2 columns</p>\n",
       "</div>"
      ],
      "text/plain": [
       "        salary_year_avg job_skills\n",
       "109             89000.0     python\n",
       "109             89000.0          r\n",
       "109             89000.0    alteryx\n",
       "109             89000.0    tableau\n",
       "180             90250.0      excel\n",
       "...                 ...        ...\n",
       "784882          87500.0        sql\n",
       "784882          87500.0        vba\n",
       "784882          87500.0    tableau\n",
       "784882          87500.0      excel\n",
       "784882          87500.0    alteryx\n",
       "\n",
       "[17440 rows x 2 columns]"
      ]
     },
     "execution_count": 8,
     "metadata": {},
     "output_type": "execute_result"
    }
   ],
   "source": [
    "df_DA_US = df_DA_US.explode('job_skills')\n",
    "\n",
    "df_DA_US[['salary_year_avg','job_skills']]"
   ]
  },
  {
   "cell_type": "code",
   "execution_count": 11,
   "metadata": {},
   "outputs": [
    {
     "data": {
      "text/html": [
       "<div>\n",
       "<style scoped>\n",
       "    .dataframe tbody tr th:only-of-type {\n",
       "        vertical-align: middle;\n",
       "    }\n",
       "\n",
       "    .dataframe tbody tr th {\n",
       "        vertical-align: top;\n",
       "    }\n",
       "\n",
       "    .dataframe thead th {\n",
       "        text-align: right;\n",
       "    }\n",
       "</style>\n",
       "<table border=\"1\" class=\"dataframe\">\n",
       "  <thead>\n",
       "    <tr style=\"text-align: right;\">\n",
       "      <th></th>\n",
       "      <th>count</th>\n",
       "      <th>median</th>\n",
       "    </tr>\n",
       "    <tr>\n",
       "      <th>job_skills</th>\n",
       "      <th></th>\n",
       "      <th></th>\n",
       "    </tr>\n",
       "  </thead>\n",
       "  <tbody>\n",
       "    <tr>\n",
       "      <th>dplyr</th>\n",
       "      <td>2</td>\n",
       "      <td>196250.0</td>\n",
       "    </tr>\n",
       "    <tr>\n",
       "      <th>bitbucket</th>\n",
       "      <td>3</td>\n",
       "      <td>189000.0</td>\n",
       "    </tr>\n",
       "    <tr>\n",
       "      <th>gitlab</th>\n",
       "      <td>3</td>\n",
       "      <td>186000.0</td>\n",
       "    </tr>\n",
       "    <tr>\n",
       "      <th>solidity</th>\n",
       "      <td>1</td>\n",
       "      <td>179000.0</td>\n",
       "    </tr>\n",
       "    <tr>\n",
       "      <th>hugging face</th>\n",
       "      <td>1</td>\n",
       "      <td>175000.0</td>\n",
       "    </tr>\n",
       "    <tr>\n",
       "      <th>couchbase</th>\n",
       "      <td>1</td>\n",
       "      <td>160515.0</td>\n",
       "    </tr>\n",
       "    <tr>\n",
       "      <th>ansible</th>\n",
       "      <td>1</td>\n",
       "      <td>159640.0</td>\n",
       "    </tr>\n",
       "    <tr>\n",
       "      <th>mxnet</th>\n",
       "      <td>2</td>\n",
       "      <td>149000.0</td>\n",
       "    </tr>\n",
       "    <tr>\n",
       "      <th>cassandra</th>\n",
       "      <td>6</td>\n",
       "      <td>148250.0</td>\n",
       "    </tr>\n",
       "    <tr>\n",
       "      <th>vmware</th>\n",
       "      <td>1</td>\n",
       "      <td>147500.0</td>\n",
       "    </tr>\n",
       "  </tbody>\n",
       "</table>\n",
       "</div>"
      ],
      "text/plain": [
       "              count    median\n",
       "job_skills                   \n",
       "dplyr             2  196250.0\n",
       "bitbucket         3  189000.0\n",
       "gitlab            3  186000.0\n",
       "solidity          1  179000.0\n",
       "hugging face      1  175000.0\n",
       "couchbase         1  160515.0\n",
       "ansible           1  159640.0\n",
       "mxnet             2  149000.0\n",
       "cassandra         6  148250.0\n",
       "vmware            1  147500.0"
      ]
     },
     "execution_count": 11,
     "metadata": {},
     "output_type": "execute_result"
    }
   ],
   "source": [
    "df_DA_top_pay = df_DA_US.groupby('job_skills')['salary_year_avg'].agg(['count','median']).sort_values(by=['median'],ascending=False).head(10)\n",
    "df_DA_top_pay"
   ]
  },
  {
   "cell_type": "code",
   "execution_count": 32,
   "metadata": {},
   "outputs": [],
   "source": [
    "df_DA_US_group = df_DA_US.groupby('job_skills')['salary_year_avg'].agg(['count','median'])\n",
    "df_DA_top_pay = df_DA_US_group.sort_values(by='median',ascending=False).head(10)\n",
    "df_DA_skills = df_DA_US_group.sort_values(by='count',ascending=False).head(10).sort_values(by='median',ascending=False)\n",
    "\n"
   ]
  },
  {
   "cell_type": "code",
   "execution_count": 51,
   "metadata": {},
   "outputs": [
    {
     "data": {
      "image/png": "[encoded data removed]",
      "text/plain": [
       "<Figure size 640x480 with 2 Axes>"
      ]
     },
     "metadata": {},
     "output_type": "display_data"
    }
   ],
   "source": [
    "fig, ax = plt.subplots(2,1)\n",
    "\n",
    "df_DA_top_pay[::-1].plot(kind='barh' ,y='median',ax=ax[0],legend=False)\n",
    "# ax[0].invert_yaxis()\n",
    "ax[0].set_title('Top 10 Highest Paid Skills for Data Analysts')\n",
    "ax[0].set_ylabel('')\n",
    "ax[0].set_xlabel('')\n",
    "ax[0].xaxis.set_major_formatter(plt.FuncFormatter(lambda x, _: f'${int(x/1000)}K'))\n",
    "\n",
    "df_DA_skills[::-1].plot(kind='barh' ,y='median',ax=ax[1])\n",
    "ax[1].set_title('Top 10 Most In-Demand Skills for Data Analysts')\n",
    "ax[1].set_ylabel('')\n",
    "ax[1].set_xlabel('Median Salary (USD)')\n",
    "ax[1].set_xlim(ax[0].get_xlim())  # Set the same x-axis limits as the first plot\n",
    "ax[1].xaxis.set_major_formatter(plt.FuncFormatter(lambda x, _: f'${int(x/1000)}K'))\n",
    "\n",
    "plt.tight_layout()\n",
    "plt.show()"
   ]
  },
  {
   "cell_type": "code",
   "execution_count": null,
   "metadata": {},
   "outputs": [],
   "source": []
  }
 ],
 "metadata": {
  "kernelspec": {
   "display_name": "python_course",
   "language": "python",
   "name": "python3"
  },
  "language_info": {
   "codemirror_mode": {
    "name": "ipython",
    "version": 3
   },
   "file_extension": ".py",
   "mimetype": "text/x-python",
   "name": "python",
   "nbconvert_exporter": "python",
   "pygments_lexer": "ipython3",
   "version": "3.12.5"
  }
 },
 "nbformat": 4,
 "nbformat_minor": 2
}
